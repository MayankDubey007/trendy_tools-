{
 "cells": [
  {
   "cell_type": "code",
   "execution_count": 33,
   "metadata": {},
   "outputs": [
    {
     "name": "stdout",
     "output_type": "stream",
     "text": [
      "Cookies saved successfully! ✅\n"
     ]
    }
   ],
   "source": [
    "\n",
    "from selenium import webdriver\n",
    "from selenium.webdriver.common.by import By\n",
    "import pickle\n",
    "from selenium import webdriver\n",
    "import time\n",
    "\n",
    "\n",
    "# Initialize WebDriver\n",
    "driver = webdriver.Chrome()\n",
    "driver.maximize_window()\n",
    "\n",
    "# Credentials and URL\n",
    "username = \"mayankd.bca2020@ssism.org\"\n",
    "password = \"ssism2002\"\n",
    "login_url = \"https://accounts.google.com/v3/signin/challenge/pwd?TL=ADgdZ7Sg0sRg42_G04RZXNa1Lv_1Ht_5y4ZZJDdpspw7y28Yc-qTeVc_AiUTju7R&checkConnection=youtube%3A1325&checkedDomains=youtube&cid=1&continue=https%3A%2F%2Fwww.youtube.com%2Fsignin%3Faction_handle_signin%3Dtrue%26app%3Ddesktop%26hl%3Den-GB%26next%3Dhttps%253A%252F%252Fwww.youtube.com%252F&ddm=1&dsh=S1259922984%3A1739439985150985&ec=65620&flowEntry=ServiceLogin&flowName=GlifWebSignIn&hl=en-GB&ifkv=ASSHykrkaLjsLE7GhevvkR3fMle4vF34FyAw7YJaWxkN4BIXok4Kj4GTXQeJZ0HoIR8rqDleGKqw&pstMsg=1&service=youtube\"# Open the login page\n",
    "driver.get(login_url)\n",
    "\n",
    "# # Locate the username and password fields\n",
    "\n",
    "\n",
    "gmail_field = driver.find_element(By.ID, \"identifierId\")\n",
    "gmail_field.send_keys(username)\n",
    "\n",
    "nextb = driver.find_element(By.ID, \"identifierNext\")\n",
    "nextb.click()\n",
    "time.sleep(10)\n",
    "password_field = driver.find_element(By.NAME, \"Passwd\")\n",
    "password_field.send_keys(password)\n",
    "\n",
    "next_button = driver.find_element(By.ID, \"passwordNext\")\n",
    "next_button.click()\n",
    "\n",
    "\n",
    "\n",
    "# # Locate and click the login button\n",
    "# login_button = driver.find_element(By.ID, \"login-button\")\n",
    "# assert not login_button.get_attribute(\"disabled\")  # Ensure button is enabled\n",
    "# login_button.click()\n",
    "\n",
    "# ////\n",
    "# Step 2: Load cookies\n",
    "time.sleep(5)\n",
    "# Step 2: Save cookies after login\n",
    "cookies = driver.get_cookies()  # Extract cookies\n",
    "pickle.dump(cookies, open(\"youtube.pkl\", \"wb\"))  # Save cookies to file\n",
    "print(\"Cookies saved successfully! ✅\")\n",
    "\n",
    "driver.quit()  # Close browser\n"
   ]
  },
  {
   "cell_type": "code",
   "execution_count": 35,
   "metadata": {},
   "outputs": [
    {
     "name": "stdout",
     "output_type": "stream",
     "text": [
      "✅ Cookies added successfully!\n"
     ]
    }
   ],
   "source": [
    "import pickle\n",
    "import time\n",
    "from selenium import webdriver\n",
    "\n",
    "# 🔹 SauceDemo URL\n",
    "website_url = \"https://www.youtube.com/\"\n",
    "\n",
    "# 🔹 Initialize WebDriver\n",
    "browser = webdriver.Chrome()\n",
    "browser.get(website_url)\n",
    "time.sleep(3)  # Wait for page to load\n",
    "\n",
    "# 🔹 Load cookies from file and add them to the browser\n",
    "try:\n",
    "    with open(\"youtube.pkl\", \"rb\") as file:\n",
    "        cookies = pickle.load(file)\n",
    "        for cookie in cookies:\n",
    "            cookie[\"domain\"] = \".youtube.com\"  # Ensure correct domain\n",
    "            browser.add_cookie(cookie)\n",
    "    print(\"✅ Cookies added successfully!\")\n",
    "except FileNotFoundError:\n",
    "    print(\"❌ No cookies file found! Please log in manually and save cookies first.\")\n",
    "\n",
    "# 🔹 Refresh the page to apply cookies\n",
    "browser.refresh()\n",
    "time.sleep(5)\n",
    "\n",
    "# Keep browser open for verification\n",
    "browser.get(\"https://www.youtube.com\")\n",
    "# time.sleep(60)\n",
    "# browser.quit()\n"
   ]
  },
  {
   "cell_type": "code",
   "execution_count": null,
   "metadata": {},
   "outputs": [],
   "source": []
  }
 ],
 "metadata": {
  "kernelspec": {
   "display_name": "Python 3",
   "language": "python",
   "name": "python3"
  },
  "language_info": {
   "codemirror_mode": {
    "name": "ipython",
    "version": 3
   },
   "file_extension": ".py",
   "mimetype": "text/x-python",
   "name": "python",
   "nbconvert_exporter": "python",
   "pygments_lexer": "ipython3",
   "version": "3.12.4"
  }
 },
 "nbformat": 4,
 "nbformat_minor": 2
}
