{
 "cells": [
  {
   "cell_type": "code",
   "execution_count": 1,
   "metadata": {},
   "outputs": [],
   "source": [
    "from selenium import webdriver\n",
    "from selenium.webdriver.common.keys import Keys\n",
    "from selenium.webdriver.common.by import By\n",
    "\n",
    "driver = webdriver.Chrome()\n",
    "driver.get(\"http://www.python.org\")\n",
    "assert \"Python\" in driver.title\n",
    "elem = driver.find_element(By.NAME, \"q\")\n",
    "elem.clear()\n",
    "elem.send_keys(\"pycon\")\n",
    "elem.send_keys(Keys.RETURN)\n",
    "assert \"No results found.\" not in driver.page_source\n",
    "driver.close()"
   ]
  },
  {
   "cell_type": "code",
   "execution_count": null,
   "metadata": {},
   "outputs": [],
   "source": [
    "from selenium import webdriver\n",
    "from selenium.webdriver.chrome.options import Options\n",
    "from selenium.webdriver.common.keys import Keys\n",
    "from selenium.webdriver.common.by import By\n",
    "import os\n",
    "import time\n",
    "\n",
    "# Create a ChromeOptions instance and specify the binary location for Chrome Beta\n",
    "chrome_options = Options()\n",
    "chrome_options.binary_location = \"C:\\\\Users\\\\mayan\\\\AppData\\\\Local\\\\Google\\\\Chrome Beta\\\\User Data\\\\Default\"  # Replace with your actual path\n",
    "# For example, on Windows:\n",
    "chrome_options.binary_location = \"C:\\\\Program Files\\\\Google\\\\Chrome Beta\\\\Application\\\\chrome.exe\"\n",
    "\n",
    "# Instantiate the WebDriver with the options\n",
    "Service = webdriver.Chrome(options=chrome_options)"
   ]
  },
  {
   "cell_type": "code",
   "execution_count": null,
   "metadata": {},
   "outputs": [
    {
     "ename": "InvalidSessionIdException",
     "evalue": "Message: invalid session id: session deleted as the browser has closed the connection\nfrom disconnected: not connected to DevTools\n  (Session info: chrome=134.0.6998.3)\nStacktrace:\n\tGetHandleVerifier [0x00007FF64B49C065+28581]\n\t(No symbol) [0x00007FF64B4043A0]\n\t(No symbol) [0x00007FF64B2991DA]\n\t(No symbol) [0x00007FF64B284F95]\n\t(No symbol) [0x00007FF64B2A9CB4]\n\t(No symbol) [0x00007FF64B31F6EF]\n\t(No symbol) [0x00007FF64B33FA82]\n\t(No symbol) [0x00007FF64B317713]\n\t(No symbol) [0x00007FF64B2E0400]\n\t(No symbol) [0x00007FF64B2E16B3]\n\tGetHandleVerifier [0x00007FF64B7F2D0D+3529805]\n\tGetHandleVerifier [0x00007FF64B80B9C2+3631362]\n\tGetHandleVerifier [0x00007FF64B800233+3584371]\n\tGetHandleVerifier [0x00007FF64B566D3A+859258]\n\t(No symbol) [0x00007FF64B40F10F]\n\t(No symbol) [0x00007FF64B40AF74]\n\t(No symbol) [0x00007FF64B40B116]\n\t(No symbol) [0x00007FF64B3FAAE9]\n\tBaseThreadInitThunk [0x00007FF898DC259D+29]\n\tRtlUserThreadStart [0x00007FF899CAAF38+40]\n",
     "output_type": "error",
     "traceback": [
      "\u001b[1;31m---------------------------------------------------------------------------\u001b[0m",
      "\u001b[1;31mInvalidSessionIdException\u001b[0m                 Traceback (most recent call last)",
      "Cell \u001b[1;32mIn[16], line 18\u001b[0m\n\u001b[0;32m     16\u001b[0m driver\u001b[38;5;241m.\u001b[39mget(\u001b[38;5;124m\"\u001b[39m\u001b[38;5;124mhttps://studio.youtube.com\u001b[39m\u001b[38;5;124m\"\u001b[39m)\n\u001b[0;32m     17\u001b[0m time\u001b[38;5;241m.\u001b[39msleep(\u001b[38;5;241m3\u001b[39m)\n\u001b[1;32m---> 18\u001b[0m \u001b[38;5;28;01massert\u001b[39;00m \u001b[38;5;124m\"\u001b[39m\u001b[38;5;124mPython\u001b[39m\u001b[38;5;124m\"\u001b[39m \u001b[38;5;129;01min\u001b[39;00m \u001b[43mdriver\u001b[49m\u001b[38;5;241;43m.\u001b[39;49m\u001b[43mtitle\u001b[49m\n\u001b[0;32m     20\u001b[0m elem \u001b[38;5;241m=\u001b[39m driver\u001b[38;5;241m.\u001b[39mfind_element(By\u001b[38;5;241m.\u001b[39mNAME, \u001b[38;5;124m\"\u001b[39m\u001b[38;5;124mq\u001b[39m\u001b[38;5;124m\"\u001b[39m)\n\u001b[0;32m     21\u001b[0m elem\u001b[38;5;241m.\u001b[39mclear()\n",
      "File \u001b[1;32mc:\\Users\\mayan\\AppData\\Local\\Programs\\Python\\Python312\\Lib\\site-packages\\selenium\\webdriver\\remote\\webdriver.py:465\u001b[0m, in \u001b[0;36mWebDriver.title\u001b[1;34m(self)\u001b[0m\n\u001b[0;32m    456\u001b[0m \u001b[38;5;129m@property\u001b[39m\n\u001b[0;32m    457\u001b[0m \u001b[38;5;28;01mdef\u001b[39;00m \u001b[38;5;21mtitle\u001b[39m(\u001b[38;5;28mself\u001b[39m) \u001b[38;5;241m-\u001b[39m\u001b[38;5;241m>\u001b[39m \u001b[38;5;28mstr\u001b[39m:\n\u001b[0;32m    458\u001b[0m \u001b[38;5;250m    \u001b[39m\u001b[38;5;124;03m\"\"\"Returns the title of the current page.\u001b[39;00m\n\u001b[0;32m    459\u001b[0m \n\u001b[0;32m    460\u001b[0m \u001b[38;5;124;03m    Example:\u001b[39;00m\n\u001b[1;32m   (...)\u001b[0m\n\u001b[0;32m    463\u001b[0m \u001b[38;5;124;03m    >>> print(element.title())\u001b[39;00m\n\u001b[0;32m    464\u001b[0m \u001b[38;5;124;03m    \"\"\"\u001b[39;00m\n\u001b[1;32m--> 465\u001b[0m     \u001b[38;5;28;01mreturn\u001b[39;00m \u001b[38;5;28;43mself\u001b[39;49m\u001b[38;5;241;43m.\u001b[39;49m\u001b[43mexecute\u001b[49m\u001b[43m(\u001b[49m\u001b[43mCommand\u001b[49m\u001b[38;5;241;43m.\u001b[39;49m\u001b[43mGET_TITLE\u001b[49m\u001b[43m)\u001b[49m\u001b[38;5;241m.\u001b[39mget(\u001b[38;5;124m\"\u001b[39m\u001b[38;5;124mvalue\u001b[39m\u001b[38;5;124m\"\u001b[39m, \u001b[38;5;124m\"\u001b[39m\u001b[38;5;124m\"\u001b[39m)\n",
      "File \u001b[1;32mc:\\Users\\mayan\\AppData\\Local\\Programs\\Python\\Python312\\Lib\\site-packages\\selenium\\webdriver\\remote\\webdriver.py:429\u001b[0m, in \u001b[0;36mWebDriver.execute\u001b[1;34m(self, driver_command, params)\u001b[0m\n\u001b[0;32m    427\u001b[0m response \u001b[38;5;241m=\u001b[39m \u001b[38;5;28mself\u001b[39m\u001b[38;5;241m.\u001b[39mcommand_executor\u001b[38;5;241m.\u001b[39mexecute(driver_command, params)\n\u001b[0;32m    428\u001b[0m \u001b[38;5;28;01mif\u001b[39;00m response:\n\u001b[1;32m--> 429\u001b[0m     \u001b[38;5;28;43mself\u001b[39;49m\u001b[38;5;241;43m.\u001b[39;49m\u001b[43merror_handler\u001b[49m\u001b[38;5;241;43m.\u001b[39;49m\u001b[43mcheck_response\u001b[49m\u001b[43m(\u001b[49m\u001b[43mresponse\u001b[49m\u001b[43m)\u001b[49m\n\u001b[0;32m    430\u001b[0m     response[\u001b[38;5;124m\"\u001b[39m\u001b[38;5;124mvalue\u001b[39m\u001b[38;5;124m\"\u001b[39m] \u001b[38;5;241m=\u001b[39m \u001b[38;5;28mself\u001b[39m\u001b[38;5;241m.\u001b[39m_unwrap_value(response\u001b[38;5;241m.\u001b[39mget(\u001b[38;5;124m\"\u001b[39m\u001b[38;5;124mvalue\u001b[39m\u001b[38;5;124m\"\u001b[39m, \u001b[38;5;28;01mNone\u001b[39;00m))\n\u001b[0;32m    431\u001b[0m     \u001b[38;5;28;01mreturn\u001b[39;00m response\n",
      "File \u001b[1;32mc:\\Users\\mayan\\AppData\\Local\\Programs\\Python\\Python312\\Lib\\site-packages\\selenium\\webdriver\\remote\\errorhandler.py:232\u001b[0m, in \u001b[0;36mErrorHandler.check_response\u001b[1;34m(self, response)\u001b[0m\n\u001b[0;32m    230\u001b[0m         alert_text \u001b[38;5;241m=\u001b[39m value[\u001b[38;5;124m\"\u001b[39m\u001b[38;5;124malert\u001b[39m\u001b[38;5;124m\"\u001b[39m]\u001b[38;5;241m.\u001b[39mget(\u001b[38;5;124m\"\u001b[39m\u001b[38;5;124mtext\u001b[39m\u001b[38;5;124m\"\u001b[39m)\n\u001b[0;32m    231\u001b[0m     \u001b[38;5;28;01mraise\u001b[39;00m exception_class(message, screen, stacktrace, alert_text)  \u001b[38;5;66;03m# type: ignore[call-arg]  # mypy is not smart enough here\u001b[39;00m\n\u001b[1;32m--> 232\u001b[0m \u001b[38;5;28;01mraise\u001b[39;00m exception_class(message, screen, stacktrace)\n",
      "\u001b[1;31mInvalidSessionIdException\u001b[0m: Message: invalid session id: session deleted as the browser has closed the connection\nfrom disconnected: not connected to DevTools\n  (Session info: chrome=134.0.6998.3)\nStacktrace:\n\tGetHandleVerifier [0x00007FF64B49C065+28581]\n\t(No symbol) [0x00007FF64B4043A0]\n\t(No symbol) [0x00007FF64B2991DA]\n\t(No symbol) [0x00007FF64B284F95]\n\t(No symbol) [0x00007FF64B2A9CB4]\n\t(No symbol) [0x00007FF64B31F6EF]\n\t(No symbol) [0x00007FF64B33FA82]\n\t(No symbol) [0x00007FF64B317713]\n\t(No symbol) [0x00007FF64B2E0400]\n\t(No symbol) [0x00007FF64B2E16B3]\n\tGetHandleVerifier [0x00007FF64B7F2D0D+3529805]\n\tGetHandleVerifier [0x00007FF64B80B9C2+3631362]\n\tGetHandleVerifier [0x00007FF64B800233+3584371]\n\tGetHandleVerifier [0x00007FF64B566D3A+859258]\n\t(No symbol) [0x00007FF64B40F10F]\n\t(No symbol) [0x00007FF64B40AF74]\n\t(No symbol) [0x00007FF64B40B116]\n\t(No symbol) [0x00007FF64B3FAAE9]\n\tBaseThreadInitThunk [0x00007FF898DC259D+29]\n\tRtlUserThreadStart [0x00007FF899CAAF38+40]\n"
     ]
    }
   ],
   "source": [
    "from selenium import webdriver\n",
    "from selenium.webdriver.chrome.options import Options\n",
    "from selenium.webdriver.common.keys import Keys\n",
    "from selenium.webdriver.common.by import By\n",
    "\n",
    "# Create a ChromeOptions instance and specify the binary location for Chrome Beta\n",
    "chrome_options = Options()\n",
    "chrome_options.binary_location = \"C:\\\\Users\\\\mayan\\\\AppData\\\\Local\\\\Google\\\\Chrome Beta\\\\User Data\\\\Default\"  # Replace with your actual path\n",
    "# For example, on Windows:\n",
    "chrome_options.binary_location = \"C:\\\\Program Files\\\\Google\\\\Chrome Beta\\\\Application\\\\chrome.exe\"\n",
    "\n",
    "# Instantiate the WebDriver with the options\n",
    "driver = webdriver.Chrome(options=chrome_options)\n",
    "\n",
    "\n",
    "driver.get(\"https://studio.youtube.com\")\n",
    "time.sleep(3)\n",
    "\n",
    "driver.close()\n"
   ]
  },
  {
   "cell_type": "code",
   "execution_count": 4,
   "metadata": {},
   "outputs": [
    {
     "ename": "SessionNotCreatedException",
     "evalue": "Message: session not created: Chrome failed to start: crashed.\n  (session not created: DevToolsActivePort file doesn't exist)\n  (The process started from chrome location C:\\Program Files\\Google\\Chrome Beta\\Application\\chrome.exe is no longer running, so ChromeDriver is assuming that Chrome has crashed.)\nStacktrace:\n\tGetHandleVerifier [0x00007FF6D9FEC065+28581]\n\t(No symbol) [0x00007FF6D9F543A0]\n\t(No symbol) [0x00007FF6D9DE91DA]\n\t(No symbol) [0x00007FF6D9E25C57]\n\t(No symbol) [0x00007FF6D9E219ED]\n\t(No symbol) [0x00007FF6D9E75B9B]\n\t(No symbol) [0x00007FF6D9E75170]\n\t(No symbol) [0x00007FF6D9E67713]\n\t(No symbol) [0x00007FF6D9E30400]\n\t(No symbol) [0x00007FF6D9E316B3]\n\tGetHandleVerifier [0x00007FF6DA342D0D+3529805]\n\tGetHandleVerifier [0x00007FF6DA35B9C2+3631362]\n\tGetHandleVerifier [0x00007FF6DA350233+3584371]\n\tGetHandleVerifier [0x00007FF6DA0B6D3A+859258]\n\t(No symbol) [0x00007FF6D9F5F10F]\n\t(No symbol) [0x00007FF6D9F5AF74]\n\t(No symbol) [0x00007FF6D9F5B116]\n\t(No symbol) [0x00007FF6D9F4AAE9]\n\tBaseThreadInitThunk [0x00007FF898DC259D+29]\n\tRtlUserThreadStart [0x00007FF899CAAF38+40]\n",
     "output_type": "error",
     "traceback": [
      "\u001b[1;31m---------------------------------------------------------------------------\u001b[0m",
      "\u001b[1;31mSessionNotCreatedException\u001b[0m                Traceback (most recent call last)",
      "Cell \u001b[1;32mIn[4], line 19\u001b[0m\n\u001b[0;32m     16\u001b[0m service \u001b[38;5;241m=\u001b[39m Service()\n\u001b[0;32m     18\u001b[0m \u001b[38;5;66;03m# Example snippet for uploading a video without needing to re-login:\u001b[39;00m\n\u001b[1;32m---> 19\u001b[0m bot \u001b[38;5;241m=\u001b[39m \u001b[43mwebdriver\u001b[49m\u001b[38;5;241;43m.\u001b[39;49m\u001b[43mChrome\u001b[49m\u001b[43m(\u001b[49m\u001b[43mservice\u001b[49m\u001b[38;5;241;43m=\u001b[39;49m\u001b[43mservice\u001b[49m\u001b[43m,\u001b[49m\u001b[43m \u001b[49m\u001b[43moptions\u001b[49m\u001b[38;5;241;43m=\u001b[39;49m\u001b[43moptions\u001b[49m\u001b[43m)\u001b[49m\n\u001b[0;32m     20\u001b[0m bot\u001b[38;5;241m.\u001b[39mget(\u001b[38;5;124m\"\u001b[39m\u001b[38;5;124mhttps://studio.youtube.com\u001b[39m\u001b[38;5;124m\"\u001b[39m)\n\u001b[0;32m     21\u001b[0m time\u001b[38;5;241m.\u001b[39msleep(\u001b[38;5;241m3\u001b[39m)\n",
      "File \u001b[1;32mc:\\Users\\mayan\\AppData\\Local\\Programs\\Python\\Python312\\Lib\\site-packages\\selenium\\webdriver\\chrome\\webdriver.py:45\u001b[0m, in \u001b[0;36mWebDriver.__init__\u001b[1;34m(self, options, service, keep_alive)\u001b[0m\n\u001b[0;32m     42\u001b[0m service \u001b[38;5;241m=\u001b[39m service \u001b[38;5;28;01mif\u001b[39;00m service \u001b[38;5;28;01melse\u001b[39;00m Service()\n\u001b[0;32m     43\u001b[0m options \u001b[38;5;241m=\u001b[39m options \u001b[38;5;28;01mif\u001b[39;00m options \u001b[38;5;28;01melse\u001b[39;00m Options()\n\u001b[1;32m---> 45\u001b[0m \u001b[38;5;28;43msuper\u001b[39;49m\u001b[43m(\u001b[49m\u001b[43m)\u001b[49m\u001b[38;5;241;43m.\u001b[39;49m\u001b[38;5;21;43m__init__\u001b[39;49m\u001b[43m(\u001b[49m\n\u001b[0;32m     46\u001b[0m \u001b[43m    \u001b[49m\u001b[43mbrowser_name\u001b[49m\u001b[38;5;241;43m=\u001b[39;49m\u001b[43mDesiredCapabilities\u001b[49m\u001b[38;5;241;43m.\u001b[39;49m\u001b[43mCHROME\u001b[49m\u001b[43m[\u001b[49m\u001b[38;5;124;43m\"\u001b[39;49m\u001b[38;5;124;43mbrowserName\u001b[39;49m\u001b[38;5;124;43m\"\u001b[39;49m\u001b[43m]\u001b[49m\u001b[43m,\u001b[49m\n\u001b[0;32m     47\u001b[0m \u001b[43m    \u001b[49m\u001b[43mvendor_prefix\u001b[49m\u001b[38;5;241;43m=\u001b[39;49m\u001b[38;5;124;43m\"\u001b[39;49m\u001b[38;5;124;43mgoog\u001b[39;49m\u001b[38;5;124;43m\"\u001b[39;49m\u001b[43m,\u001b[49m\n\u001b[0;32m     48\u001b[0m \u001b[43m    \u001b[49m\u001b[43moptions\u001b[49m\u001b[38;5;241;43m=\u001b[39;49m\u001b[43moptions\u001b[49m\u001b[43m,\u001b[49m\n\u001b[0;32m     49\u001b[0m \u001b[43m    \u001b[49m\u001b[43mservice\u001b[49m\u001b[38;5;241;43m=\u001b[39;49m\u001b[43mservice\u001b[49m\u001b[43m,\u001b[49m\n\u001b[0;32m     50\u001b[0m \u001b[43m    \u001b[49m\u001b[43mkeep_alive\u001b[49m\u001b[38;5;241;43m=\u001b[39;49m\u001b[43mkeep_alive\u001b[49m\u001b[43m,\u001b[49m\n\u001b[0;32m     51\u001b[0m \u001b[43m\u001b[49m\u001b[43m)\u001b[49m\n",
      "File \u001b[1;32mc:\\Users\\mayan\\AppData\\Local\\Programs\\Python\\Python312\\Lib\\site-packages\\selenium\\webdriver\\chromium\\webdriver.py:66\u001b[0m, in \u001b[0;36mChromiumDriver.__init__\u001b[1;34m(self, browser_name, vendor_prefix, options, service, keep_alive)\u001b[0m\n\u001b[0;32m     57\u001b[0m executor \u001b[38;5;241m=\u001b[39m ChromiumRemoteConnection(\n\u001b[0;32m     58\u001b[0m     remote_server_addr\u001b[38;5;241m=\u001b[39m\u001b[38;5;28mself\u001b[39m\u001b[38;5;241m.\u001b[39mservice\u001b[38;5;241m.\u001b[39mservice_url,\n\u001b[0;32m     59\u001b[0m     browser_name\u001b[38;5;241m=\u001b[39mbrowser_name,\n\u001b[1;32m   (...)\u001b[0m\n\u001b[0;32m     62\u001b[0m     ignore_proxy\u001b[38;5;241m=\u001b[39moptions\u001b[38;5;241m.\u001b[39m_ignore_local_proxy,\n\u001b[0;32m     63\u001b[0m )\n\u001b[0;32m     65\u001b[0m \u001b[38;5;28;01mtry\u001b[39;00m:\n\u001b[1;32m---> 66\u001b[0m     \u001b[38;5;28;43msuper\u001b[39;49m\u001b[43m(\u001b[49m\u001b[43m)\u001b[49m\u001b[38;5;241;43m.\u001b[39;49m\u001b[38;5;21;43m__init__\u001b[39;49m\u001b[43m(\u001b[49m\u001b[43mcommand_executor\u001b[49m\u001b[38;5;241;43m=\u001b[39;49m\u001b[43mexecutor\u001b[49m\u001b[43m,\u001b[49m\u001b[43m \u001b[49m\u001b[43moptions\u001b[49m\u001b[38;5;241;43m=\u001b[39;49m\u001b[43moptions\u001b[49m\u001b[43m)\u001b[49m\n\u001b[0;32m     67\u001b[0m \u001b[38;5;28;01mexcept\u001b[39;00m \u001b[38;5;167;01mException\u001b[39;00m:\n\u001b[0;32m     68\u001b[0m     \u001b[38;5;28mself\u001b[39m\u001b[38;5;241m.\u001b[39mquit()\n",
      "File \u001b[1;32mc:\\Users\\mayan\\AppData\\Local\\Programs\\Python\\Python312\\Lib\\site-packages\\selenium\\webdriver\\remote\\webdriver.py:250\u001b[0m, in \u001b[0;36mWebDriver.__init__\u001b[1;34m(self, command_executor, keep_alive, file_detector, options, locator_converter, web_element_cls, client_config)\u001b[0m\n\u001b[0;32m    248\u001b[0m \u001b[38;5;28mself\u001b[39m\u001b[38;5;241m.\u001b[39m_authenticator_id \u001b[38;5;241m=\u001b[39m \u001b[38;5;28;01mNone\u001b[39;00m\n\u001b[0;32m    249\u001b[0m \u001b[38;5;28mself\u001b[39m\u001b[38;5;241m.\u001b[39mstart_client()\n\u001b[1;32m--> 250\u001b[0m \u001b[38;5;28;43mself\u001b[39;49m\u001b[38;5;241;43m.\u001b[39;49m\u001b[43mstart_session\u001b[49m\u001b[43m(\u001b[49m\u001b[43mcapabilities\u001b[49m\u001b[43m)\u001b[49m\n\u001b[0;32m    251\u001b[0m \u001b[38;5;28mself\u001b[39m\u001b[38;5;241m.\u001b[39m_fedcm \u001b[38;5;241m=\u001b[39m FedCM(\u001b[38;5;28mself\u001b[39m)\n\u001b[0;32m    253\u001b[0m \u001b[38;5;28mself\u001b[39m\u001b[38;5;241m.\u001b[39m_websocket_connection \u001b[38;5;241m=\u001b[39m \u001b[38;5;28;01mNone\u001b[39;00m\n",
      "File \u001b[1;32mc:\\Users\\mayan\\AppData\\Local\\Programs\\Python\\Python312\\Lib\\site-packages\\selenium\\webdriver\\remote\\webdriver.py:342\u001b[0m, in \u001b[0;36mWebDriver.start_session\u001b[1;34m(self, capabilities)\u001b[0m\n\u001b[0;32m    333\u001b[0m \u001b[38;5;250m\u001b[39m\u001b[38;5;124;03m\"\"\"Creates a new session with the desired capabilities.\u001b[39;00m\n\u001b[0;32m    334\u001b[0m \n\u001b[0;32m    335\u001b[0m \u001b[38;5;124;03mParameters:\u001b[39;00m\n\u001b[1;32m   (...)\u001b[0m\n\u001b[0;32m    338\u001b[0m \u001b[38;5;124;03m    - A capabilities dict to start the session with.\u001b[39;00m\n\u001b[0;32m    339\u001b[0m \u001b[38;5;124;03m\"\"\"\u001b[39;00m\n\u001b[0;32m    341\u001b[0m caps \u001b[38;5;241m=\u001b[39m _create_caps(capabilities)\n\u001b[1;32m--> 342\u001b[0m response \u001b[38;5;241m=\u001b[39m \u001b[38;5;28;43mself\u001b[39;49m\u001b[38;5;241;43m.\u001b[39;49m\u001b[43mexecute\u001b[49m\u001b[43m(\u001b[49m\u001b[43mCommand\u001b[49m\u001b[38;5;241;43m.\u001b[39;49m\u001b[43mNEW_SESSION\u001b[49m\u001b[43m,\u001b[49m\u001b[43m \u001b[49m\u001b[43mcaps\u001b[49m\u001b[43m)\u001b[49m[\u001b[38;5;124m\"\u001b[39m\u001b[38;5;124mvalue\u001b[39m\u001b[38;5;124m\"\u001b[39m]\n\u001b[0;32m    343\u001b[0m \u001b[38;5;28mself\u001b[39m\u001b[38;5;241m.\u001b[39msession_id \u001b[38;5;241m=\u001b[39m response\u001b[38;5;241m.\u001b[39mget(\u001b[38;5;124m\"\u001b[39m\u001b[38;5;124msessionId\u001b[39m\u001b[38;5;124m\"\u001b[39m)\n\u001b[0;32m    344\u001b[0m \u001b[38;5;28mself\u001b[39m\u001b[38;5;241m.\u001b[39mcaps \u001b[38;5;241m=\u001b[39m response\u001b[38;5;241m.\u001b[39mget(\u001b[38;5;124m\"\u001b[39m\u001b[38;5;124mcapabilities\u001b[39m\u001b[38;5;124m\"\u001b[39m)\n",
      "File \u001b[1;32mc:\\Users\\mayan\\AppData\\Local\\Programs\\Python\\Python312\\Lib\\site-packages\\selenium\\webdriver\\remote\\webdriver.py:429\u001b[0m, in \u001b[0;36mWebDriver.execute\u001b[1;34m(self, driver_command, params)\u001b[0m\n\u001b[0;32m    427\u001b[0m response \u001b[38;5;241m=\u001b[39m \u001b[38;5;28mself\u001b[39m\u001b[38;5;241m.\u001b[39mcommand_executor\u001b[38;5;241m.\u001b[39mexecute(driver_command, params)\n\u001b[0;32m    428\u001b[0m \u001b[38;5;28;01mif\u001b[39;00m response:\n\u001b[1;32m--> 429\u001b[0m     \u001b[38;5;28;43mself\u001b[39;49m\u001b[38;5;241;43m.\u001b[39;49m\u001b[43merror_handler\u001b[49m\u001b[38;5;241;43m.\u001b[39;49m\u001b[43mcheck_response\u001b[49m\u001b[43m(\u001b[49m\u001b[43mresponse\u001b[49m\u001b[43m)\u001b[49m\n\u001b[0;32m    430\u001b[0m     response[\u001b[38;5;124m\"\u001b[39m\u001b[38;5;124mvalue\u001b[39m\u001b[38;5;124m\"\u001b[39m] \u001b[38;5;241m=\u001b[39m \u001b[38;5;28mself\u001b[39m\u001b[38;5;241m.\u001b[39m_unwrap_value(response\u001b[38;5;241m.\u001b[39mget(\u001b[38;5;124m\"\u001b[39m\u001b[38;5;124mvalue\u001b[39m\u001b[38;5;124m\"\u001b[39m, \u001b[38;5;28;01mNone\u001b[39;00m))\n\u001b[0;32m    431\u001b[0m     \u001b[38;5;28;01mreturn\u001b[39;00m response\n",
      "File \u001b[1;32mc:\\Users\\mayan\\AppData\\Local\\Programs\\Python\\Python312\\Lib\\site-packages\\selenium\\webdriver\\remote\\errorhandler.py:232\u001b[0m, in \u001b[0;36mErrorHandler.check_response\u001b[1;34m(self, response)\u001b[0m\n\u001b[0;32m    230\u001b[0m         alert_text \u001b[38;5;241m=\u001b[39m value[\u001b[38;5;124m\"\u001b[39m\u001b[38;5;124malert\u001b[39m\u001b[38;5;124m\"\u001b[39m]\u001b[38;5;241m.\u001b[39mget(\u001b[38;5;124m\"\u001b[39m\u001b[38;5;124mtext\u001b[39m\u001b[38;5;124m\"\u001b[39m)\n\u001b[0;32m    231\u001b[0m     \u001b[38;5;28;01mraise\u001b[39;00m exception_class(message, screen, stacktrace, alert_text)  \u001b[38;5;66;03m# type: ignore[call-arg]  # mypy is not smart enough here\u001b[39;00m\n\u001b[1;32m--> 232\u001b[0m \u001b[38;5;28;01mraise\u001b[39;00m exception_class(message, screen, stacktrace)\n",
      "\u001b[1;31mSessionNotCreatedException\u001b[0m: Message: session not created: Chrome failed to start: crashed.\n  (session not created: DevToolsActivePort file doesn't exist)\n  (The process started from chrome location C:\\Program Files\\Google\\Chrome Beta\\Application\\chrome.exe is no longer running, so ChromeDriver is assuming that Chrome has crashed.)\nStacktrace:\n\tGetHandleVerifier [0x00007FF6D9FEC065+28581]\n\t(No symbol) [0x00007FF6D9F543A0]\n\t(No symbol) [0x00007FF6D9DE91DA]\n\t(No symbol) [0x00007FF6D9E25C57]\n\t(No symbol) [0x00007FF6D9E219ED]\n\t(No symbol) [0x00007FF6D9E75B9B]\n\t(No symbol) [0x00007FF6D9E75170]\n\t(No symbol) [0x00007FF6D9E67713]\n\t(No symbol) [0x00007FF6D9E30400]\n\t(No symbol) [0x00007FF6D9E316B3]\n\tGetHandleVerifier [0x00007FF6DA342D0D+3529805]\n\tGetHandleVerifier [0x00007FF6DA35B9C2+3631362]\n\tGetHandleVerifier [0x00007FF6DA350233+3584371]\n\tGetHandleVerifier [0x00007FF6DA0B6D3A+859258]\n\t(No symbol) [0x00007FF6D9F5F10F]\n\t(No symbol) [0x00007FF6D9F5AF74]\n\t(No symbol) [0x00007FF6D9F5B116]\n\t(No symbol) [0x00007FF6D9F4AAE9]\n\tBaseThreadInitThunk [0x00007FF898DC259D+29]\n\tRtlUserThreadStart [0x00007FF899CAAF38+40]\n"
     ]
    }
   ],
   "source": [
    "import time, os\n",
    "from selenium import webdriver\n",
    "from selenium.webdriver.common.by import By\n",
    "from selenium.webdriver.chrome.service import Service\n",
    "\n",
    "options = webdriver.ChromeOptions()\n",
    "options.add_argument(\"--log-level=3\")\n",
    "# Specify the user data directory and profile directory\n",
    "options.add_argument(\"user-data-dir=C:\\\\Users\\\\mayan\\\\AppData\\\\Local\\\\Google\\\\Chrome Beta\\\\User Data\")\n",
    "options.add_argument(\"profile-directory=mayankssism\")  # ya jis profile mein login hua hai\n",
    "options.binary_location = \"C:\\\\Program Files\\\\Google\\\\Chrome Beta\\\\Application\\\\chrome.exe\"\n",
    "\n",
    "# Set up the ChromeDriver Service (use correct path as per your file structure)\n",
    "driver_path = r\"C:\\\\Users\\\\mayan\\\\Downloads\\\\youtube-autoupload-bot-master\\\\youtube-autoupload-bot-master\\\\chromedriver.exe\"\n",
    "service = Service(executable_path=driver_path)\n",
    "service = Service()\n",
    "\n",
    "# Example snippet for uploading a video without needing to re-login:\n",
    "bot = webdriver.Chrome(service=service, options=options)\n",
    "bot.get(\"https://studio.youtube.com\")\n",
    "time.sleep(3)\n",
    "upload_button = bot.find_element(By.XPATH, '//*[@id=\"upload-icon\"]')\n",
    "upload_button.click()\n",
    "time.sleep(1)\n",
    "\n",
    "file_input = bot.find_element(By.XPATH, '//*[@id=\"content\"]/input')\n",
    "nameofvid = \"vid3.mp4\"  # Example filename\n",
    "simp_path = f'videos/{nameofvid}'\n",
    "abs_path = os.path.abspath(simp_path)\n",
    "file_input.send_keys(abs_path)\n",
    "\n",
    "time.sleep(7)\n",
    "\n",
    "next_button = bot.find_element(By.XPATH, '//*[@id=\"next-button\"]')\n",
    "for i in range(3):\n",
    "    next_button.click()\n",
    "    time.sleep(1)\n",
    "\n",
    "done_button = bot.find_element(By.XPATH, '//*[@id=\"done-button\"]')\n",
    "done_button.click()\n",
    "time.sleep(5)\n",
    "bot.quit()\n"
   ]
  },
  {
   "cell_type": "code",
   "execution_count": null,
   "metadata": {},
   "outputs": [
    {
     "ename": "AttributeError",
     "evalue": "'WebDriver' object has no attribute 'find'",
     "output_type": "error",
     "traceback": [
      "\u001b[1;31m---------------------------------------------------------------------------\u001b[0m",
      "\u001b[1;31mAttributeError\u001b[0m                            Traceback (most recent call last)",
      "Cell \u001b[1;32mIn[37], line 9\u001b[0m\n\u001b[0;32m      7\u001b[0m driver\u001b[38;5;241m.\u001b[39mget(\u001b[38;5;124m\"\u001b[39m\u001b[38;5;124mhttps://www.youtube.com\u001b[39m\u001b[38;5;124m\"\u001b[39m)\n\u001b[0;32m      8\u001b[0m time\u001b[38;5;241m.\u001b[39msleep (\u001b[38;5;241m3\u001b[39m)\n\u001b[1;32m----> 9\u001b[0m cookie_accept \u001b[38;5;241m=\u001b[39m \u001b[43mdriver\u001b[49m\u001b[38;5;241;43m.\u001b[39;49m\u001b[43mfind\u001b[49m(By\u001b[38;5;241m.\u001b[39mXPATH,\u001b[38;5;124m'\u001b[39m\u001b[38;5;124m//span[text()=\u001b[39m\u001b[38;5;124m\"\u001b[39m\u001b[38;5;124mAccept all\u001b[39m\u001b[38;5;124m\"\u001b[39m\u001b[38;5;124m]/ancestor::button\u001b[39m\u001b[38;5;124m'\u001b[39m)\n\u001b[0;32m     10\u001b[0m cookie_accept\u001b[38;5;241m.\u001b[39mclick()\n\u001b[0;32m     11\u001b[0m time\u001b[38;5;241m.\u001b[39msleep(\u001b[38;5;241m3\u001b[39m)\n",
      "\u001b[1;31mAttributeError\u001b[0m: 'WebDriver' object has no attribute 'find'"
     ]
    }
   ],
   "source": [
    "from selenium import webdriver \n",
    "import time\n",
    "from selenium.webdriver.common.by import By\n",
    "from selenium.webdriver.common.keys import Keys\n",
    "\n",
    "driver = webdriver.Chrome()\n",
    "driver.get(\"https://www.youtube.com\")\n",
    "time.sleep(3)\n",
    "cookie_accept = driver.find(By.XPATH,'//span[text()=\"Accept all\"]/ancestor::button')\n",
    "cookie_accept.click()\n",
    "time.sleep(3)\n",
    "sign_in = driver.find_element(By.CSS_SELECTOR,'ytd-button-renderer. style-scope.ytd-masthead a')\n",
    "sign_in.click()\n",
    "time.sleep(3)\n",
    "\n",
    "email_field = driver.find_element(By.ID, 'identifierId')\n",
    "email_field.send_keys(Keys.email)\n",
    "time.sleep(3)\n",
    "next_btn = driver.find_element(By.ID, 'identifierNext')\n",
    "next_btn.click()\n",
    "time.sleep(3)\n",
    "driver.refresh()\n",
    "time.sleep(900)"
   ]
  },
  {
   "cell_type": "code",
   "execution_count": 54,
   "metadata": {},
   "outputs": [
    {
     "name": "stdout",
     "output_type": "stream",
     "text": [
      "[{'PREF': '__Secure-3PSID', 'tz=Asia.Calcutta&f7=100&f4=4000000': 'g.a000tAhpAX-vXH0h86zcjitBkebmdTrxpLfBpS13LsdXXyGtnVihqFqapaPmmvlPfJPXunA6RwACgYKAWgSARASFQHGX2MigqgFukNqoYgY_GcRpcP4-RoVAUF8yKoaB1cIvbQlCqCQATBSeUxD0076', '.youtube.com': '.youtube.com', '/': '/', '2026-03-17T14:23:07.571Z': '2026-03-08T23:55:13.612Z', '38': '167', '': '', '✓': '✓', 'Medium': 'High'}, {'PREF': '__Secure-1PSID', 'tz=Asia.Calcutta&f7=100&f4=4000000': 'g.a000tAhpAX-vXH0h86zcjitBkebmdTrxpLfBpS13LsdXXyGtnVihGnZghnrIkj-KWH0CH7XQlQACgYKAXsSARASFQHGX2MiJqAyt_HqCRHDIrHaixZgFhoVAUF8yKrKUlVatIONSnzBjQUpoNoO0076', '.youtube.com': '.youtube.com', '/': '/', '2026-03-17T14:23:07.571Z': '2026-03-08T23:55:13.612Z', '38': '167', '': '', '✓': '✓', 'Medium': 'High'}, {'PREF': 'SID', 'tz=Asia.Calcutta&f7=100&f4=4000000': 'g.a000tAhpAX-vXH0h86zcjitBkebmdTrxpLfBpS13LsdXXyGtnVihkdfvaR-StOWWK9XIk0eAQgACgYKAToSARASFQHGX2MiYeo98d5m5vEf1LYOCWT90RoVAUF8yKo9zFIhvUj6Gq4plhzuuGdW0076', '.youtube.com': '.youtube.com', '/': '/', '2026-03-17T14:23:07.571Z': '2026-03-08T23:55:13.612Z', '38': '156', '': '', '✓': '', 'Medium': 'High'}, {'PREF': '__Secure-3PAPISID', 'tz=Asia.Calcutta&f7=100&f4=4000000': '3oD0Gni_lr5hAN4u/ApryTLfRSKMfZAD9q', '.youtube.com': '.youtube.com', '/': '/', '2026-03-17T14:23:07.571Z': '2026-03-08T23:55:13.612Z', '38': '51', '': '', '✓': '✓', 'Medium': 'High'}, {'PREF': '__Secure-1PAPISID', 'tz=Asia.Calcutta&f7=100&f4=4000000': '3oD0Gni_lr5hAN4u/ApryTLfRSKMfZAD9q', '.youtube.com': '.youtube.com', '/': '/', '2026-03-17T14:23:07.571Z': '2026-03-08T23:55:13.612Z', '38': '51', '': '', '✓': '✓', 'Medium': 'High'}, {'PREF': 'SAPISID', 'tz=Asia.Calcutta&f7=100&f4=4000000': '3oD0Gni_lr5hAN4u/ApryTLfRSKMfZAD9q', '.youtube.com': '.youtube.com', '/': '/', '2026-03-17T14:23:07.571Z': '2026-03-08T23:55:13.612Z', '38': '41', '': '', '✓': '✓', 'Medium': 'High'}, {'PREF': 'APISID', 'tz=Asia.Calcutta&f7=100&f4=4000000': 'lE3CVF_ibODaJ2EP/AVJX_DXdeAMJ7YmsX', '.youtube.com': '.youtube.com', '/': '/', '2026-03-17T14:23:07.571Z': '2026-03-08T23:55:13.612Z', '38': '40', '': '', '✓': '', 'Medium': 'High'}, {'PREF': 'SSID', 'tz=Asia.Calcutta&f7=100&f4=4000000': 'A0-V6TANz9pHEQ-L_', '.youtube.com': '.youtube.com', '/': '/', '2026-03-17T14:23:07.571Z': '2026-03-08T23:55:13.612Z', '38': '21', '': '', '✓': '✓', 'Medium': 'High'}, {'PREF': 'HSID', 'tz=Asia.Calcutta&f7=100&f4=4000000': 'A7MU_fNrLwtzXdRuk', '.youtube.com': '.youtube.com', '/': '/', '2026-03-17T14:23:07.571Z': '2026-03-08T23:55:13.612Z', '38': '21', '': '', '✓': '', 'Medium': 'High'}, {'PREF': '__Secure-3PSID', 'tz=Asia.Calcutta&f7=100&f4=4000000': 'g.a000sghpAWKtZZX_n25wjRvNlKO5LNC3rIZYNkHKgQUf0PJba1CuBsncTf2-RoS_js0_1JCEdwACgYKAeESARASFQHGX2Mi6XLz5uh_F5ZoHM7e_Vok6hoVAUF8yKpGHJFPMUlum6uHzIS5TYJl0076', '.youtube.com': '.google.com', '/': '/', '2026-03-17T14:23:07.571Z': '2026-02-26T05:26:52.233Z', '38': '167', '': '', '✓': '✓', 'Medium': 'High'}, {'PREF': '__Secure-1PSID', 'tz=Asia.Calcutta&f7=100&f4=4000000': 'g.a000sghpAWKtZZX_n25wjRvNlKO5LNC3rIZYNkHKgQUf0PJba1CuIkNzcaGDRD_wCVJM3xCGgAACgYKASYSARASFQHGX2MisSI_JZo9fGgC4vY52qft5xoVAUF8yKre0AqOPPx4CY7mVnh5qgQN0076', '.youtube.com': '.google.com', '/': '/', '2026-03-17T14:23:07.571Z': '2026-02-26T05:26:52.233Z', '38': '167', '': '', '✓': '✓', 'Medium': 'High'}, {'PREF': 'SID', 'tz=Asia.Calcutta&f7=100&f4=4000000': 'g.a000sghpAWKtZZX_n25wjRvNlKO5LNC3rIZYNkHKgQUf0PJba1CuxtGdeV2V_ienCN5VF9w9CQACgYKAaYSARASFQHGX2MiH72Vo8XouZrrh85i95O9XBoVAUF8yKpzJgOGy3RXW04zauvY-vt60076', '.youtube.com': '.google.com', '/': '/', '2026-03-17T14:23:07.571Z': '2026-02-26T05:26:52.233Z', '38': '156', '': '', '✓': '', 'Medium': 'High'}, {'PREF': '__Secure-3PAPISID', 'tz=Asia.Calcutta&f7=100&f4=4000000': '3oD0Gni_lr5hAN4u/ApryTLfRSKMfZAD9q', '.youtube.com': '.google.com', '/': '/', '2026-03-17T14:23:07.571Z': '2026-02-26T05:26:52.233Z', '38': '51', '': '', '✓': '✓', 'Medium': 'High'}, {'PREF': '__Secure-1PAPISID', 'tz=Asia.Calcutta&f7=100&f4=4000000': '3oD0Gni_lr5hAN4u/ApryTLfRSKMfZAD9q', '.youtube.com': '.google.com', '/': '/', '2026-03-17T14:23:07.571Z': '2026-02-26T05:26:52.233Z', '38': '51', '': '', '✓': '✓', 'Medium': 'High'}, {'PREF': 'SAPISID', 'tz=Asia.Calcutta&f7=100&f4=4000000': '3oD0Gni_lr5hAN4u/ApryTLfRSKMfZAD9q', '.youtube.com': '.google.com', '/': '/', '2026-03-17T14:23:07.571Z': '2026-02-26T05:26:52.233Z', '38': '41', '': '', '✓': '✓', 'Medium': 'High'}, {'PREF': 'APISID', 'tz=Asia.Calcutta&f7=100&f4=4000000': 'lE3CVF_ibODaJ2EP/AVJX_DXdeAMJ7YmsX', '.youtube.com': '.google.com', '/': '/', '2026-03-17T14:23:07.571Z': '2026-02-26T05:26:52.233Z', '38': '40', '': '', '✓': '', 'Medium': 'High'}, {'PREF': 'SSID', 'tz=Asia.Calcutta&f7=100&f4=4000000': 'AFmX7xclhEBqDpp28', '.youtube.com': '.google.com', '/': '/', '2026-03-17T14:23:07.571Z': '2026-02-26T05:26:52.233Z', '38': '21', '': '', '✓': '✓', 'Medium': 'High'}, {'PREF': 'HSID', 'tz=Asia.Calcutta&f7=100&f4=4000000': 'AJRkwWqv6xe1NyDm9', '.youtube.com': '.google.com', '/': '/', '2026-03-17T14:23:07.571Z': '2026-02-26T05:26:52.233Z', '38': '21', '': '', '✓': '', 'Medium': 'High'}, {'PREF': '__Secure-3PSIDCC', 'tz=Asia.Calcutta&f7=100&f4=4000000': 'AKEyXzUTB3f5paN7CYjB-cim40T1e0zCx23xUsy_88jwscWuPmUk1zZAgDalzNK3239CL6O0Vg', '.youtube.com': '.youtube.com', '/': '/', '2026-03-17T14:23:07.571Z': '2026-02-10T14:28:09.161Z', '38': '90', '': '', '✓': '✓', 'Medium': 'High'}, {'PREF': '__Secure-1PSIDCC', 'tz=Asia.Calcutta&f7=100&f4=4000000': 'AKEyXzWz5tmu14kPsCXIedEnIJJo2oKfJVr7LVafMJsSthmTARu-9sKDOatoVSr0Maqc2yqOcTk', '.youtube.com': '.youtube.com', '/': '/', '2026-03-17T14:23:07.571Z': '2026-02-10T14:28:09.161Z', '38': '91', '': '', '✓': '✓', 'Medium': 'High'}, {'PREF': 'SIDCC', 'tz=Asia.Calcutta&f7=100&f4=4000000': 'AKEyXzUIp8uo9kcFwjlmlYMiS5X5WWc8TQ8ARZ6VqInrujG8yCVCA1gGR773J_5-Yh5RilJoBg', '.youtube.com': '.youtube.com', '/': '/', '2026-03-17T14:23:07.571Z': '2026-02-10T14:28:09.161Z', '38': '79', '': '', '✓': '', 'Medium': 'High'}, {'PREF': '__Secure-3PSIDCC', 'tz=Asia.Calcutta&f7=100&f4=4000000': 'AKEyXzVL94dRw0CczFX3fuZfvT7syz5tdwRuJ3bErOGuEqMdDC8u4DMacTHWAhq5PtAOJ1rLQsKl', '.youtube.com': '.google.com', '/': '/', '2026-03-17T14:23:07.571Z': '2026-02-10T14:23:39.608Z', '38': '92', '': '', '✓': '✓', 'Medium': 'High'}, {'PREF': '__Secure-1PSIDCC', 'tz=Asia.Calcutta&f7=100&f4=4000000': 'AKEyXzUBXiW5zhm-x_WrvFceVlIBwk2cVj6owLMqR8F8hDqlKGwUPnnj-yWT33krTUrh4GDYeA', '.youtube.com': '.google.com', '/': '/', '2026-03-17T14:23:07.571Z': '2026-02-10T14:22:37.136Z', '38': '90', '': '', '✓': '✓', 'Medium': 'High'}, {'PREF': 'SIDCC', 'tz=Asia.Calcutta&f7=100&f4=4000000': 'AKEyXzVLmT6D4g-MYkpz9Pn4zlzOvhGJxkqMmSOctR9R4OJmHAnsT6g52VRZB8UasUVFM-4f-Lq3', '.youtube.com': '.google.com', '/': '/', '2026-03-17T14:23:07.571Z': '2026-02-10T14:22:37.136Z', '38': '81', '': '', '✓': '', 'Medium': 'High'}, {'PREF': '__Secure-3PSIDTS', 'tz=Asia.Calcutta&f7=100&f4=4000000': 'sidts-CjIBEJ3XVwpEyupVCpuyKdSjNCTXYIMnHn1PbZbtDkE96d9NL8kmXHtz3dG8KQedy7x6NhAA', '.youtube.com': '.youtube.com', '/': '/', '2026-03-17T14:23:07.571Z': '2026-02-10T13:59:28.812Z', '38': '94', '': '', '✓': '✓', 'Medium': 'High'}, {'PREF': '__Secure-1PSIDTS', 'tz=Asia.Calcutta&f7=100&f4=4000000': 'sidts-CjIBEJ3XVwpEyupVCpuyKdSjNCTXYIMnHn1PbZbtDkE96d9NL8kmXHtz3dG8KQedy7x6NhAA', '.youtube.com': '.youtube.com', '/': '/', '2026-03-17T14:23:07.571Z': '2026-02-10T13:59:28.812Z', '38': '94', '': '', '✓': '✓', 'Medium': 'High'}, {'PREF': '__Secure-3PSIDTS', 'tz=Asia.Calcutta&f7=100&f4=4000000': 'sidts-CjIBEJ3XV1vhnDyfWE6hTy51PsYIZnAbEQzE85516WvvCO1hH3DB8AhLmqS8LtfQJHExPBAA', '.youtube.com': '.google.com', '/': '/', '2026-03-17T14:23:07.571Z': '2026-02-10T13:58:40.478Z', '38': '94', '': '', '✓': '✓', 'Medium': 'High'}, {'PREF': '__Secure-1PSIDTS', 'tz=Asia.Calcutta&f7=100&f4=4000000': 'sidts-CjIBEJ3XV1vhnDyfWE6hTy51PsYIZnAbEQzE85516WvvCO1hH3DB8AhLmqS8LtfQJHExPBAA', '.youtube.com': '.google.com', '/': '/', '2026-03-17T14:23:07.571Z': '2026-02-10T13:58:40.477Z', '38': '94', '': '', '✓': '✓', 'Medium': 'High'}, {'PREF': 'logged_in', 'tz=Asia.Calcutta&f7=100&f4=4000000': 'no', '.youtube.com': '.github.com', '/': '/', '2026-03-17T14:23:07.571Z': '2026-02-10T09:41:48.045Z', '38': '11', '': '', '✓': '✓', 'Medium': 'Medium'}, {'PREF': '_ga', 'tz=Asia.Calcutta&f7=100&f4=4000000': 'GA1.1.1062246949.1733431777', '.youtube.com': '.play.google.com', '/': '/', '2026-03-17T14:23:07.571Z': '2026-01-09T20:49:37.379Z', '38': '30', '': '', '✓': '', 'Medium': 'Medium'}, {'PREF': '_ga_6VGGZHMLM2', 'tz=Asia.Calcutta&f7=100&f4=4000000': 'GS1.1.1733431777.1.0.1733431777.0.0.0', '.youtube.com': '.play.google.com', '/': '/', '2026-03-17T14:23:07.571Z': '2026-01-09T20:49:37.378Z', '38': '51', '': '', '✓': '', 'Medium': 'Medium'}, {'PREF': '__Secure-OSID', 'tz=Asia.Calcutta&f7=100&f4=4000000': 'g.a000qAhpAfQ_VBcY7rahmhQZ-uPIUAvzvEBP5HVtPR6d4OYVhMKgq5h5FFyjqzA1W_ka8RzPqAACgYKASQSARASFQHGX2Mi3ny5xo_7yLSTcMdhwPm2YhoVAUF8yKqkhFrBVZsEq4i8gcNFtggt0076', '.youtube.com': 'play.google.com', '/': '/', '2026-03-17T14:23:07.571Z': '2025-12-19T08:38:09.708Z', '38': '166', '': '', '✓': '✓', 'Medium': 'Medium'}, {'PREF': 'OSID', 'tz=Asia.Calcutta&f7=100&f4=4000000': 'g.a000qAhpAfQ_VBcY7rahmhQZ-uPIUAvzvEBP5HVtPR6d4OYVhMKgUUG81aXGZG_TqqAcpw9wdgACgYKAZISARASFQHGX2MizGcH35ZGYDqk9VrpuIKR-RoVAUF8yKp2M3UKr0OlC48BTLK_kCll0076', '.youtube.com': 'play.google.com', '/': '/', '2026-03-17T14:23:07.571Z': '2025-12-19T08:38:09.708Z', '38': '157', '': '', '✓': '✓', 'Medium': 'Medium'}, {'PREF': 'NID', 'tz=Asia.Calcutta&f7=100&f4=4000000': '521=gDOqIZXiyqD-JX-OxV-9JSb63W09rfK_SYJUqqDvn158JW859EQn_HcS6yB9L8WrJZB--srRqLjT-8Ew5G1Iq5KfI6ieKtl6eKQdlWwhFPiU47bUoqRzu_gnFgr0VeDxxTeb935iFh46QU8x3vq0eWlStcipYX1ejPflkHwqz1A4nVMOH0Y6wxxVlcEWxZpWcYpIQQn_Pgq_n4FLM4UxpOCey2Tdw7OsAUumZg6F3Kgt35Pw6-iy-vmsc6ivDgduvftKiIZ9GnMiB1r-0MP5Ue0xVdLlG5l2TWoLeUOspyQ99EbjddDVzysNJFW9LB24mMLttye69qEebTu9S_vybytcqOkoYijeLc1375Sg0mv95JBtsruUUrtXSCJJrPhliKRdxfQ1UulEQAdPg42mX3sX65oQfMLHXW1JqTKiEg8_VfUdRb0Ajbbht7JyvV0GxQgLm5KmaMGF8sPTbgzdTdG_YuewuXB7esCUrMftXyXrYHnZ36n1K5ulX6gUkMKWs-2HA9PsRdK7S44qlGi4Z9NoVMtE4oOnoSWH6wPFW_XUOO3_9k67f9jdVGTiDgW2JezlnZIi83h0qJWEOFJGZOPTJeRCKWqzkiJN8Kxrb3hASfUXAKOL-BqMVcyVzAIocQshYVMx9ajMckRFL-RjnFebX0SzVS_HLlcr1U2dAKxAEJXnHAO3aDdSqxd7jEqyGYeAYsGB5BgaqwIM1fWMDO-cSFMt-GcL2jxUj4iKIlnRhgucPpan9UXqaKJhVb5uCXyL5j1D8P1iDrh1J1XhGSvrDNQ579A-ViobhKu7NTWp25mPmtdBkH1_fPidUH4dAvu0w2jsrI-yNX5tdEqxISSMM-Q-gQ-q8KmbafkbPGMLnfK46x7xd-FFdXk2RnH4OD7pQmmgQa85_50n5Y-qdiH91VQJaKnJeIFVWGNZfzm1vEwDU_Q4-KM8vIZJzeCxz3WzbuRHwamYbb47E9cL4ctjZXRNQWHlUJf…', '.youtube.com': '.google.com', '/': '/', '2026-03-17T14:23:07.571Z': '2025-08-12T14:21:48.556Z', '38': '1474', '': '', '✓': '✓', 'Medium': 'Medium'}, {'PREF': 'VISITOR_PRIVACY_METADATA', 'tz=Asia.Calcutta&f7=100&f4=4000000': 'CgJJThIEGgAgFA%3D%3D', '.youtube.com': '.youtube.com', '/': '/', '2026-03-17T14:23:07.571Z': '2025-08-09T14:23:11.257Z', '38': '44', '': '', '✓': '✓', 'Medium': 'Medium'}, {'PREF': 'VISITOR_INFO1_LIVE', 'tz=Asia.Calcutta&f7=100&f4=4000000': 'KWqJxAvUMFw', '.youtube.com': '.youtube.com', '/': '/', '2026-03-17T14:23:07.571Z': '2025-08-09T14:23:11.257Z', '38': '29', '': '', '✓': '✓', 'Medium': 'Medium'}, {'PREF': '__Secure-ROLLOUT_TOKEN', 'tz=Asia.Calcutta&f7=100&f4=4000000': 'COnBxuOz_tOZHBCsgvqw7OuKAxjd3bnb57iLAw%3D%3D', '.youtube.com': '.youtube.com', '/': '/', '2026-03-17T14:23:07.571Z': '2025-08-09T09:39:17.973Z', '38': '66', '': '', '✓': '✓', 'Medium': 'Medium'}, {'PREF': 'LOGIN_INFO', 'tz=Asia.Calcutta&f7=100&f4=4000000': 'AFmmF2swRQIgCYJKMNTM0m94BhPx_hxARuizatapKWz3xWuCzxkmFZACIQCOtBbmCFp7RrEbLDEppQhXZCw3pcosMcddq7owcgNi4g:QUQ3MjNmeDZkdWo3b1lFLWdwS3Fjdm1sd20yaVpqTlJFUmZvbmdjREtoQ3FoY0djTE1aaEdUejQxcUhwZkFEdjFFeU52MmVRN0o4Q1YzNFpZYlZfQXFPbWNJbXNHNktfUVNGd2p1bzVIVFdhcm55Q0dwY2pXVUV5LVJOT2F1NWV0UjBHTmp2WkUyN2pkWTB2TzNQZk11MEpaTVNZeEw0YVZB', '.youtube.com': '.youtube.com', '/': '/', '2026-03-17T14:23:07.571Z': '2025-07-28T13:50:51.071Z', '38': '329', '': '', '✓': '✓', 'Medium': 'Medium'}, {'PREF': '_octo', 'tz=Asia.Calcutta&f7=100&f4=4000000': 'GH1.1.963253605.1719695446', '.youtube.com': '.github.com', '/': '/', '2026-03-17T14:23:07.571Z': '2025-06-29T21:10:44.500Z', '38': '31', '': '', '✓': '✓', 'Medium': 'Medium'}, {'PREF': 'AEC', 'tz=Asia.Calcutta&f7=100&f4=4000000': 'AVcja2fEd9jsoqT6fjF3Jt0Ug4An1RPdAi5BpDqnflipjekEyVC5qqg6rEY', '.youtube.com': '.google.com', '/': '/', '2026-03-17T14:23:07.571Z': '2025-06-19T06:29:47.655Z', '38': '62', '': '', '✓': '✓', 'Medium': 'Medium'}, {'PREF': 'NID', 'tz=Asia.Calcutta&f7=100&f4=4000000': '519=M6DOLuwo99SQKHd6BP2g1_GgYG-MQwIXrzo_V-EnNQfLkHTfPTh-6AZLJIIEUOUfJBZVWu-f8rLqQVjBy7XnRZrHVzkln_AUAW1R7wN4t4OffBeUGqS96r1NoOz7xwt4Z6SQiIAScvBILShMH0gLqu_Yr6ofFpOKLotkoj2ziIXNE0jT7Q', '.youtube.com': '.google.co.in', '/': '/', '2026-03-17T14:23:07.571Z': '2025-06-10T11:01:25.275Z', '38': '185', '': '', '✓': '✓', 'Medium': 'Medium'}, {'PREF': 'SEARCH_SAMESITE', 'tz=Asia.Calcutta&f7=100&f4=4000000': 'CgQIkpwB', '.youtube.com': '.google.com', '/': '/', '2026-03-17T14:23:07.571Z': '2025-03-19T19:18:13.003Z', '38': '23', '': '', '✓': '', 'Medium': 'Medium'}, {'PREF': '_gcl_au', 'tz=Asia.Calcutta&f7=100&f4=4000000': '1.1.1537895332.1733431777', '.youtube.com': '.play.google.com', '/': '/', '2026-03-17T14:23:07.571Z': '2025-03-05T20:49:36.000Z', '38': '32', '': '', '✓': '', 'Medium': 'Medium'}, {'PREF': 'tz', 'tz=Asia.Calcutta&f7=100&f4=4000000': 'Asia%2FCalcutta', '.youtube.com': '.github.com', '/': '/', '2026-03-17T14:23:07.571Z': 'Session', '38': '17', '': '', '✓': '✓', 'Medium': 'Medium'}, {'PREF': 'cpu_bucket', 'tz=Asia.Calcutta&f7=100&f4=4000000': 'xlg', '.youtube.com': '.github.com', '/': '/', '2026-03-17T14:23:07.571Z': 'Session', '38': '13', '': '', '✓': '✓', 'Medium': 'Medium'}, {'PREF': 'preferred_color_mode', 'tz=Asia.Calcutta&f7=100&f4=4000000': 'light', '.youtube.com': '.github.com', '/': '/', '2026-03-17T14:23:07.571Z': 'Session', '38': '25', '': '', '✓': '✓', 'Medium': 'Medium'}, {'PREF': 'YSC', 'tz=Asia.Calcutta&f7=100&f4=4000000': 'bktwbVQ0Z_w', '.youtube.com': '.youtube.com', '/': '/', '2026-03-17T14:23:07.571Z': 'Session', '38': '14', '': '', '✓': '✓', 'Medium': 'Medium'}]\n",
      "{'PREF': '__Secure-3PSID', 'tz=Asia.Calcutta&f7=100&f4=4000000': 'g.a000tAhpAX-vXH0h86zcjitBkebmdTrxpLfBpS13LsdXXyGtnVihqFqapaPmmvlPfJPXunA6RwACgYKAWgSARASFQHGX2MigqgFukNqoYgY_GcRpcP4-RoVAUF8yKoaB1cIvbQlCqCQATBSeUxD0076', '.youtube.com': '.youtube.com', '/': '/', '2026-03-17T14:23:07.571Z': '2026-03-08T23:55:13.612Z', '38': '167', '': '', '✓': '✓', 'Medium': 'High'}\n"
     ]
    },
    {
     "ename": "InvalidArgumentException",
     "evalue": "Message: invalid argument: missing 'name'\n  (Session info: chrome=132.0.6834.196)\nStacktrace:\n\tGetHandleVerifier [0x00007FF71B4202F5+28725]\n\t(No symbol) [0x00007FF71B382AE0]\n\t(No symbol) [0x00007FF71B21510A]\n\t(No symbol) [0x00007FF71B2C4D7E]\n\t(No symbol) [0x00007FF71B28FFAA]\n\t(No symbol) [0x00007FF71B2B0181]\n\t(No symbol) [0x00007FF71B28FD53]\n\t(No symbol) [0x00007FF71B25A0E3]\n\t(No symbol) [0x00007FF71B25B471]\n\tGetHandleVerifier [0x00007FF71B74F30D+3366989]\n\tGetHandleVerifier [0x00007FF71B7612F0+3440688]\n\tGetHandleVerifier [0x00007FF71B7578FD+3401277]\n\tGetHandleVerifier [0x00007FF71B4EAAAB+858091]\n\t(No symbol) [0x00007FF71B38E74F]\n\t(No symbol) [0x00007FF71B38A304]\n\t(No symbol) [0x00007FF71B38A49D]\n\t(No symbol) [0x00007FF71B378B69]\n\tBaseThreadInitThunk [0x00007FF898DC259D+29]\n\tRtlUserThreadStart [0x00007FF899CAAF38+40]\n",
     "output_type": "error",
     "traceback": [
      "\u001b[1;31m---------------------------------------------------------------------------\u001b[0m",
      "\u001b[1;31mInvalidArgumentException\u001b[0m                  Traceback (most recent call last)",
      "Cell \u001b[1;32mIn[54], line 17\u001b[0m\n\u001b[0;32m     15\u001b[0m \u001b[38;5;28;01mfor\u001b[39;00m i \u001b[38;5;129;01min\u001b[39;00m cookies:\n\u001b[0;32m     16\u001b[0m     \u001b[38;5;28mprint\u001b[39m(i)\n\u001b[1;32m---> 17\u001b[0m     \u001b[43mdriver\u001b[49m\u001b[38;5;241;43m.\u001b[39;49m\u001b[43madd_cookie\u001b[49m\u001b[43m(\u001b[49m\u001b[43mi\u001b[49m\u001b[43m)\u001b[49m\n\u001b[0;32m     18\u001b[0m driver\u001b[38;5;241m.\u001b[39mrefresh()\n\u001b[0;32m     19\u001b[0m time\u001b[38;5;241m.\u001b[39msleep(\u001b[38;5;241m900\u001b[39m)\n",
      "File \u001b[1;32mc:\\Users\\mayan\\AppData\\Local\\Programs\\Python\\Python312\\Lib\\site-packages\\selenium\\webdriver\\remote\\webdriver.py:767\u001b[0m, in \u001b[0;36mWebDriver.add_cookie\u001b[1;34m(self, cookie_dict)\u001b[0m\n\u001b[0;32m    765\u001b[0m     \u001b[38;5;28mself\u001b[39m\u001b[38;5;241m.\u001b[39mexecute(Command\u001b[38;5;241m.\u001b[39mADD_COOKIE, {\u001b[38;5;124m\"\u001b[39m\u001b[38;5;124mcookie\u001b[39m\u001b[38;5;124m\"\u001b[39m: cookie_dict})\n\u001b[0;32m    766\u001b[0m \u001b[38;5;28;01melse\u001b[39;00m:\n\u001b[1;32m--> 767\u001b[0m     \u001b[38;5;28;43mself\u001b[39;49m\u001b[38;5;241;43m.\u001b[39;49m\u001b[43mexecute\u001b[49m\u001b[43m(\u001b[49m\u001b[43mCommand\u001b[49m\u001b[38;5;241;43m.\u001b[39;49m\u001b[43mADD_COOKIE\u001b[49m\u001b[43m,\u001b[49m\u001b[43m \u001b[49m\u001b[43m{\u001b[49m\u001b[38;5;124;43m\"\u001b[39;49m\u001b[38;5;124;43mcookie\u001b[39;49m\u001b[38;5;124;43m\"\u001b[39;49m\u001b[43m:\u001b[49m\u001b[43m \u001b[49m\u001b[43mcookie_dict\u001b[49m\u001b[43m}\u001b[49m\u001b[43m)\u001b[49m\n",
      "File \u001b[1;32mc:\\Users\\mayan\\AppData\\Local\\Programs\\Python\\Python312\\Lib\\site-packages\\selenium\\webdriver\\remote\\webdriver.py:429\u001b[0m, in \u001b[0;36mWebDriver.execute\u001b[1;34m(self, driver_command, params)\u001b[0m\n\u001b[0;32m    427\u001b[0m response \u001b[38;5;241m=\u001b[39m \u001b[38;5;28mself\u001b[39m\u001b[38;5;241m.\u001b[39mcommand_executor\u001b[38;5;241m.\u001b[39mexecute(driver_command, params)\n\u001b[0;32m    428\u001b[0m \u001b[38;5;28;01mif\u001b[39;00m response:\n\u001b[1;32m--> 429\u001b[0m     \u001b[38;5;28;43mself\u001b[39;49m\u001b[38;5;241;43m.\u001b[39;49m\u001b[43merror_handler\u001b[49m\u001b[38;5;241;43m.\u001b[39;49m\u001b[43mcheck_response\u001b[49m\u001b[43m(\u001b[49m\u001b[43mresponse\u001b[49m\u001b[43m)\u001b[49m\n\u001b[0;32m    430\u001b[0m     response[\u001b[38;5;124m\"\u001b[39m\u001b[38;5;124mvalue\u001b[39m\u001b[38;5;124m\"\u001b[39m] \u001b[38;5;241m=\u001b[39m \u001b[38;5;28mself\u001b[39m\u001b[38;5;241m.\u001b[39m_unwrap_value(response\u001b[38;5;241m.\u001b[39mget(\u001b[38;5;124m\"\u001b[39m\u001b[38;5;124mvalue\u001b[39m\u001b[38;5;124m\"\u001b[39m, \u001b[38;5;28;01mNone\u001b[39;00m))\n\u001b[0;32m    431\u001b[0m     \u001b[38;5;28;01mreturn\u001b[39;00m response\n",
      "File \u001b[1;32mc:\\Users\\mayan\\AppData\\Local\\Programs\\Python\\Python312\\Lib\\site-packages\\selenium\\webdriver\\remote\\errorhandler.py:232\u001b[0m, in \u001b[0;36mErrorHandler.check_response\u001b[1;34m(self, response)\u001b[0m\n\u001b[0;32m    230\u001b[0m         alert_text \u001b[38;5;241m=\u001b[39m value[\u001b[38;5;124m\"\u001b[39m\u001b[38;5;124malert\u001b[39m\u001b[38;5;124m\"\u001b[39m]\u001b[38;5;241m.\u001b[39mget(\u001b[38;5;124m\"\u001b[39m\u001b[38;5;124mtext\u001b[39m\u001b[38;5;124m\"\u001b[39m)\n\u001b[0;32m    231\u001b[0m     \u001b[38;5;28;01mraise\u001b[39;00m exception_class(message, screen, stacktrace, alert_text)  \u001b[38;5;66;03m# type: ignore[call-arg]  # mypy is not smart enough here\u001b[39;00m\n\u001b[1;32m--> 232\u001b[0m \u001b[38;5;28;01mraise\u001b[39;00m exception_class(message, screen, stacktrace)\n",
      "\u001b[1;31mInvalidArgumentException\u001b[0m: Message: invalid argument: missing 'name'\n  (Session info: chrome=132.0.6834.196)\nStacktrace:\n\tGetHandleVerifier [0x00007FF71B4202F5+28725]\n\t(No symbol) [0x00007FF71B382AE0]\n\t(No symbol) [0x00007FF71B21510A]\n\t(No symbol) [0x00007FF71B2C4D7E]\n\t(No symbol) [0x00007FF71B28FFAA]\n\t(No symbol) [0x00007FF71B2B0181]\n\t(No symbol) [0x00007FF71B28FD53]\n\t(No symbol) [0x00007FF71B25A0E3]\n\t(No symbol) [0x00007FF71B25B471]\n\tGetHandleVerifier [0x00007FF71B74F30D+3366989]\n\tGetHandleVerifier [0x00007FF71B7612F0+3440688]\n\tGetHandleVerifier [0x00007FF71B7578FD+3401277]\n\tGetHandleVerifier [0x00007FF71B4EAAAB+858091]\n\t(No symbol) [0x00007FF71B38E74F]\n\t(No symbol) [0x00007FF71B38A304]\n\t(No symbol) [0x00007FF71B38A49D]\n\t(No symbol) [0x00007FF71B378B69]\n\tBaseThreadInitThunk [0x00007FF898DC259D+29]\n\tRtlUserThreadStart [0x00007FF899CAAF38+40]\n"
     ]
    }
   ],
   "source": [
    "from selenium import webdriver\n",
    "from csv import DictReader\n",
    "import time\n",
    "\n",
    "driver = webdriver.Chrome()\n",
    "driver.get(\"https://www.youtube.com\")\n",
    "\n",
    "def get_cookie_values(file):\n",
    "    with open(file, encoding=\"utf-8-sig\") as f:\n",
    "        dict_reader = DictReader(f, delimiter=\",\")\n",
    "        list_of_dicts = list(dict_reader)\n",
    "        print(list_of_dicts)\n",
    "    return list_of_dicts  \n",
    "cookies = get_cookie_values(\"ytlgin.csv\")\n",
    "for i in cookies:\n",
    "    print(i)\n",
    "    driver.add_cookie(i)\n",
    "driver.refresh()\n",
    "time.sleep(900)"
   ]
  },
  {
   "cell_type": "code",
   "execution_count": 8,
   "metadata": {},
   "outputs": [
    {
     "name": "stdout",
     "output_type": "stream",
     "text": [
      "An error occurred: Message: \n",
      "Stacktrace:\n",
      "\tGetHandleVerifier [0x00007FF65F2902F5+28725]\n",
      "\t(No symbol) [0x00007FF65F1F2AE0]\n",
      "\t(No symbol) [0x00007FF65F08510A]\n",
      "\t(No symbol) [0x00007FF65F0D93D2]\n",
      "\t(No symbol) [0x00007FF65F0D95FC]\n",
      "\t(No symbol) [0x00007FF65F123407]\n",
      "\t(No symbol) [0x00007FF65F0FFFEF]\n",
      "\t(No symbol) [0x00007FF65F120181]\n",
      "\t(No symbol) [0x00007FF65F0FFD53]\n",
      "\t(No symbol) [0x00007FF65F0CA0E3]\n",
      "\t(No symbol) [0x00007FF65F0CB471]\n",
      "\tGetHandleVerifier [0x00007FF65F5BF30D+3366989]\n",
      "\tGetHandleVerifier [0x00007FF65F5D12F0+3440688]\n",
      "\tGetHandleVerifier [0x00007FF65F5C78FD+3401277]\n",
      "\tGetHandleVerifier [0x00007FF65F35AAAB+858091]\n",
      "\t(No symbol) [0x00007FF65F1FE74F]\n",
      "\t(No symbol) [0x00007FF65F1FA304]\n",
      "\t(No symbol) [0x00007FF65F1FA49D]\n",
      "\t(No symbol) [0x00007FF65F1E8B69]\n",
      "\tBaseThreadInitThunk [0x00007FF898DC259D+29]\n",
      "\tRtlUserThreadStart [0x00007FF899CAAF38+40]\n",
      "\n"
     ]
    }
   ],
   "source": [
    "import time\n",
    "from selenium import webdriver\n",
    "from selenium.webdriver.common.by import By\n",
    "from selenium.webdriver.support.ui import WebDriverWait\n",
    "from selenium.webdriver.support import expected_conditions as EC\n",
    "\n",
    "# Replace these with your own credentials for testing purposes\n",
    "USERNAME = \"mayankd.bca2020@ssism.org\"\n",
    "PASSWORD = \"ssism2002\"\n",
    "\n",
    "# Initialize the WebDriver (Chrome in this example)\n",
    "driver = webdriver.Chrome()  # If not in PATH, pass the executable_path parameter.\n",
    "\n",
    "try:\n",
    "    # Open the Google sign-in page for YouTube\n",
    "    driver.get(\"https://accounts.google.com/signin/v2/identifier?service=youtube\")\n",
    "\n",
    "    # Wait for the email input to be present and then enter the username/email\n",
    "    wait = WebDriverWait(driver, 10)\n",
    "    email_input = wait.until(EC.presence_of_element_located((By.ID, \"identifierId\")))\n",
    "    email_input.send_keys(USERNAME)\n",
    "\n",
    "    # Click the \"Next\" button after entering the email\n",
    "    next_button = driver.find_element(By.ID, \"identifierNext\")\n",
    "    next_button.click()\n",
    "\n",
    "    # Wait for the password input to be present and then enter the password\n",
    "    password_input = wait.until(EC.presence_of_element_located((By.NAME, \"password\")))\n",
    "    # Pause briefly if needed; sometimes a small sleep can help the page load completely.\n",
    "    time.sleep(10)\n",
    "    password_input.send_keys(PASSWORD)\n",
    "\n",
    "    # Click the \"Next\" button after entering the password\n",
    "    password_next = driver.find_element(By.ID, \"passwordNext\")\n",
    "    password_next.click()\n",
    "\n",
    "    # Wait until the URL indicates that we have been redirected to YouTube\n",
    "    # This might change based on your account settings and Google's flow.\n",
    "    wait.until(EC.url_contains(\"youtube\"))\n",
    "    print(\"Logged in successfully!\")\n",
    "\n",
    "    # Additional code to interact with YouTube can be added here\n",
    "\n",
    "except Exception as e:\n",
    "    print(\"An error occurred:\", e)\n",
    "\n",
    "finally:\n",
    "    # Keep the browser open for a short time to see the result, then quit.\n",
    "    time.sleep(30)\n",
    "    driver.quit()\n"
   ]
  }
 ],
 "metadata": {
  "kernelspec": {
   "display_name": "Python 3",
   "language": "python",
   "name": "python3"
  },
  "language_info": {
   "codemirror_mode": {
    "name": "ipython",
    "version": 3
   },
   "file_extension": ".py",
   "mimetype": "text/x-python",
   "name": "python",
   "nbconvert_exporter": "python",
   "pygments_lexer": "ipython3",
   "version": "3.12.4"
  }
 },
 "nbformat": 4,
 "nbformat_minor": 2
}
